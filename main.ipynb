{
 "cells": [
  {
   "cell_type": "code",
   "execution_count": null,
   "metadata": {},
   "outputs": [],
   "source": [
    "import torch \n",
    "import numpy as np\n",
    "from torchvision import transforms, utils\n",
    "import torch.nn.functional as F\n",
    "import torch.nn as nn\n",
    "import torch.optim as optim\n",
    "from util.utils import *\n",
    "from data.dataloader import *\n",
    "from model.Pred_net import Pred_Net\n",
    "from model.Ind_net import Ind_Net\n",
    "from model.Multi_net import Multi_net"
   ]
  },
  {
   "cell_type": "code",
   "execution_count": null,
   "metadata": {},
   "outputs": [],
   "source": [
    "device = \"cuda\" if torch.cuda.is_available() else \"cpu\"\n",
    "print(f\"Using {device} device\")"
   ]
  },
  {
   "cell_type": "code",
   "execution_count": null,
   "metadata": {},
   "outputs": [],
   "source": [
    "# train the Ind_net\n",
    "model = Ind_Net().to(device)\n",
    "epochs = 80\n",
    "lr = 1e-5\n",
    "weight_decay=5e-4\n",
    "early_stop = 10\n",
    "batch_size = 16\n",
    "loss_fn = nn.CrossEntropyLoss()\n",
    "optimizer = optim.Adam(model.parameters(),lr=lr,weight_decay=weight_decay)\n",
    "scheduler = optim.lr_scheduler.StepLR(optimizer,5,gamma=0.7)\n",
    "train_data = Ind_dataset(dir_path='data/patches/train',transform=transforms.ToTensor())\n",
    "val_data = Ind_dataset(dir_path='data/patches/validate',transform=transforms.ToTensor())\n",
    "test_data = Ind_dataset(dir_path='data/patches/test',transform=transforms.ToTensor())\n",
    "train_dataloader = DataLoader(train_data,batch_size=batch_size,shuffle=True)\n",
    "val_dataloader = DataLoader(val_data,batch_size=batch_size,shuffle=True)\n",
    "test_dataloader = DataLoader(test_data,batch_size=batch_size,shuffle=True)"
   ]
  },
  {
   "cell_type": "code",
   "execution_count": null,
   "metadata": {},
   "outputs": [],
   "source": [
    "best_acc = 0\n",
    "es = 0\n",
    "for t in range(epochs):\n",
    "    print(f\"Epoch {t+1}\\n-------------------------------\")\n",
    "    train(train_dataloader, model, loss_fn, optimizer, device)\n",
    "    acc = evaluate(val_dataloader,  model, loss_fn, device,'validate')\n",
    "    scheduler.step()\n",
    "    if acc >best_acc :\n",
    "        best_acc = acc\n",
    "        es = 0\n",
    "        torch.save(model,f'checkpoint/Ind/Ind_Net_{(100*acc):>0.1f}%.pth')\n",
    "    else:\n",
    "\n",
    "        es = es+1\n",
    "    if es==early_stop:\n",
    "        print(\"Early stopping with best_acc: \", best_acc)\n",
    "        break"
   ]
  },
  {
   "cell_type": "code",
   "execution_count": null,
   "metadata": {},
   "outputs": [],
   "source": [
    "# train the Pred_net\n",
    "model = Pred_Net().to(device)\n",
    "epochs = 80\n",
    "lr = 1e-5\n",
    "weight_decay=5e-4\n",
    "early_stop = 10\n",
    "batch_size = 16\n",
    "loss_fn = nn.CrossEntropyLoss()\n",
    "optimizer = optim.Adam(model.parameters(),lr=lr,weight_decay=weight_decay)\n",
    "scheduler = optim.lr_scheduler.StepLR(optimizer,5,gamma=0.7)\n",
    "train_data = Pred_dataset(dir_path='data/patches/train',transform=transforms.ToTensor())\n",
    "val_data = Pred_dataset(dir_path='data/patches/validate',transform=transforms.ToTensor())\n",
    "test_data = Pred_dataset(dir_path='data/patches/test',transform=transforms.ToTensor())\n",
    "train_dataloader = DataLoader(train_data,batch_size=batch_size,shuffle=True)\n",
    "val_dataloader = DataLoader(val_data,batch_size=batch_size,shuffle=True)\n",
    "test_dataloader = DataLoader(test_data,batch_size=batch_size,shuffle=True)"
   ]
  },
  {
   "cell_type": "code",
   "execution_count": null,
   "metadata": {},
   "outputs": [],
   "source": [
    "best_acc = 0\n",
    "es = 0\n",
    "for t in range(epochs):\n",
    "    print(f\"Epoch {t+1}\\n-------------------------------\")\n",
    "    train(train_dataloader, model, loss_fn, optimizer, device)\n",
    "    acc = evaluate(val_dataloader,  model, loss_fn, device,'validate')\n",
    "    scheduler.step()\n",
    "    if acc >best_acc :\n",
    "        best_acc = acc\n",
    "        es = 0\n",
    "        torch.save(model,f'checkpoint/Pred/Pred_Net_{(100*acc):>0.1f}%.pth')\n",
    "    else:\n",
    "        es = es+1\n",
    "    if es==early_stop:\n",
    "        print(\"Early stopping with best_acc: \", best_acc)\n",
    "        break"
   ]
  },
  {
   "cell_type": "code",
   "execution_count": null,
   "metadata": {},
   "outputs": [],
   "source": [
    "# train the Multi_net\n",
    "Ind = torch.load('checkpoint\\Ind\\Ind_Net_84.9%.pth').to(device)\n",
    "Pred = torch.load('checkpoint\\Pred\\Pred_Net_85.4%.pth').to(device)\n",
    "model = Multi_net(Ind,Pred).to(device)\n",
    "epochs = 80\n",
    "lr = 1e-4\n",
    "weight_decay=5e-4\n",
    "early_stop = 10\n",
    "batch_size = 16\n",
    "loss_fn = nn.CrossEntropyLoss()\n",
    "optimizer = optim.Adam(model.parameters(),lr=lr,weight_decay=weight_decay)\n",
    "scheduler = optim.lr_scheduler.StepLR(optimizer,5,gamma=0.7)\n",
    "train_data = Multi_dataset(dir_path='data/patches/train',transform=transforms.ToTensor())\n",
    "val_data = Multi_dataset(dir_path='data/patches/validate',transform=transforms.ToTensor())\n",
    "test_data = Multi_dataset(dir_path='data/patches/test',transform=transforms.ToTensor())\n",
    "train_dataloader = DataLoader(train_data,batch_size=batch_size,shuffle=True)\n",
    "val_dataloader = DataLoader(val_data,batch_size=batch_size,shuffle=True)\n",
    "test_dataloader = DataLoader(test_data,batch_size=batch_size,shuffle=True)"
   ]
  },
  {
   "cell_type": "code",
   "execution_count": null,
   "metadata": {},
   "outputs": [],
   "source": [
    "best_acc = 0\n",
    "es = 0\n",
    "for t in range(epochs):\n",
    "    print(f\"Epoch {t+1}\\n-------------------------------\")\n",
    "    train_multi(train_dataloader, model, loss_fn, optimizer, device)\n",
    "    acc = evaluate_multi(val_dataloader,  model, loss_fn, device,'validate')\n",
    "    scheduler.step()\n",
    "    if acc >best_acc :\n",
    "        best_acc = acc\n",
    "        es = 0\n",
    "        torch.save(model,f'checkpoint/Mutli/Multi_Net_{(100*acc):>0.1f}%.pth')\n",
    "    else:\n",
    "        es = es+1\n",
    "    if es==early_stop:\n",
    "        print(\"Early stopping with best_acc: \", best_acc)\n",
    "        break\n",
    "print(\"Done!\")"
   ]
  },
  {
   "cell_type": "code",
   "execution_count": null,
   "metadata": {},
   "outputs": [],
   "source": [
    "evaluate(test_dataloader,  model, loss_fn, device,'test')"
   ]
  }
 ],
 "metadata": {
  "kernelspec": {
   "display_name": "Python 3.8.10 ('new_project')",
   "language": "python",
   "name": "python3"
  },
  "language_info": {
   "codemirror_mode": {
    "name": "ipython",
    "version": 3
   },
   "file_extension": ".py",
   "mimetype": "text/x-python",
   "name": "python",
   "nbconvert_exporter": "python",
   "pygments_lexer": "ipython3",
   "version": "3.8.10"
  },
  "orig_nbformat": 4,
  "vscode": {
   "interpreter": {
    "hash": "83c72a0a2c5ea90ed41ffed2931860438f0edeed20db8de5fc94f67f0e2aa458"
   }
  }
 },
 "nbformat": 4,
 "nbformat_minor": 2
}
