{
 "cells": [
  {
   "cell_type": "code",
   "execution_count": null,
   "metadata": {},
   "outputs": [],
   "source": [
    "import os\n",
    "import cv2\n",
    "import subprocess\n",
    "import shlex\n",
    "from copy import deepcopy\n",
    "from tqdm import tqdm"
   ]
  },
  {
   "cell_type": "code",
   "execution_count": null,
   "metadata": {},
   "outputs": [],
   "source": [
    "def get_frame_types(video_fn):\n",
    "    command = f'ffprobe -v error -show_entries frame=pict_type -of default=noprint_wrappers=1 {video_fn}'\n",
    "    args = shlex.split(command)\n",
    "    out = subprocess.check_output(args).decode()\n",
    "    frame_types = out.replace('pict_type=','').split()\n",
    "    return zip(range(len(frame_types)), frame_types)"
   ]
  },
  {
   "cell_type": "code",
   "execution_count": null,
   "metadata": {},
   "outputs": [],
   "source": [
    "def get_specified_frame(video_path, save_dir, frame_type=\"I\"):\n",
    "    if not os.path.exists(save_dir):\n",
    "        cwd = os.getcwd()\n",
    "        os.mkdir(f\"{cwd}/{save_dir}\")\n",
    "    video_name = os.path.basename(video_path)\n",
    "    video_name, _ = os.path.splitext(video_name)\n",
    "\n",
    "    frame_dir = os.path.join(save_dir, video_name)\n",
    "    if not os.path.exists(frame_dir):\n",
    "        cwd = os.getcwd()\n",
    "        os.mkdir(f\"{frame_dir}\")\n",
    "    \n",
    "    frame_type_dir = os.path.join(frame_dir, frame_type)\n",
    "    if not os.path.exists(frame_type_dir):\n",
    "        cwd = os.getcwd()\n",
    "        os.mkdir(f\"{frame_type_dir}\")\n",
    "    else:\n",
    "        print(f\"Warning: {frame_type_dir} has existed!\")\n",
    "        return\n",
    "    \n",
    "    frame_types = get_frame_types(video_path)\n",
    "    i_frames = [x[0] for x in frame_types if x[1]==frame_type]\n",
    "    if i_frames:  \n",
    "        cap = cv2.VideoCapture(video_path)\n",
    "        for frame_no in i_frames:\n",
    "            cap.set(cv2.CAP_PROP_POS_FRAMES, frame_no)\n",
    "            ret, frame = cap.read()\n",
    "            frame_path = f\"{frame_dir}/{frame_type}/{frame_no}.jpg\"\n",
    "            cv2.imwrite(frame_path, frame)\n",
    "        cap.release()\n",
    "    else:\n",
    "        print (f'No {frame_type}-frames in {video_name}')"
   ]
  },
  {
   "cell_type": "code",
   "execution_count": null,
   "metadata": {},
   "outputs": [],
   "source": [
    "def batch_extract_frames(video_dir, save_dir, frame_type=\"all\"):\n",
    "    \"\"\" extract certain types of frames from the videos\n",
    "\n",
    "    Args:\n",
    "        video_dir (_type_): the video file path\n",
    "        save_dir (_type_): file path to save extracted frames\n",
    "        frame_type (str, optional): the frame type you want to extract. Defaults to \"all\".\n",
    "    \"\"\"\n",
    "    if frame_type == \"all\":\n",
    "        # the frame type you want to extact, for this paper we just need I frame and P frame\n",
    "        frame_types = [\"I\", \"P\"]\n",
    "    else:\n",
    "        frame_types = [deepcopy(frame_type)]\n",
    "    for root, dirs, files in os.walk(video_dir):\n",
    "        for file in tqdm(files):\n",
    "            video_path = os.path.join(root, file)\n",
    "            for frame_type in frame_types:\n",
    "                get_specified_frame(video_path, save_dir, frame_type)"
   ]
  },
  {
   "cell_type": "code",
   "execution_count": null,
   "metadata": {},
   "outputs": [],
   "source": [
    "batch_extract_frames(\"./data/videos/\", \"./data/frames\", 'all')\n",
    "    print(\"finish\")"
   ]
  }
 ],
 "metadata": {
  "kernelspec": {
   "display_name": "Python 3.8.10 ('new_project')",
   "language": "python",
   "name": "python3"
  },
  "language_info": {
   "name": "python",
   "version": "3.8.10"
  },
  "orig_nbformat": 4,
  "vscode": {
   "interpreter": {
    "hash": "83c72a0a2c5ea90ed41ffed2931860438f0edeed20db8de5fc94f67f0e2aa458"
   }
  }
 },
 "nbformat": 4,
 "nbformat_minor": 2
}
